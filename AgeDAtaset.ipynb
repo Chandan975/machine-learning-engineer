{
  "nbformat": 4,
  "nbformat_minor": 0,
  "metadata": {
    "colab": {
      "name": "AgeDAtaset.ipynb",
      "provenance": [],
      "collapsed_sections": [],
      "mount_file_id": "1r_KenHB8LJ74q67KrhgCjgGaBggHjAyv",
      "authorship_tag": "ABX9TyNDsFIt5/bJVp+/opjUjk9t",
      "include_colab_link": true
    },
    "kernelspec": {
      "name": "python3",
      "display_name": "Python 3"
    },
    "language_info": {
      "name": "python"
    }
  },
  "cells": [
    {
      "cell_type": "markdown",
      "metadata": {
        "id": "view-in-github",
        "colab_type": "text"
      },
      "source": [
        "<a href=\"https://colab.research.google.com/github/Chandan975/machine-learning-engineer/blob/main/AgeDAtaset.ipynb\" target=\"_parent\"><img src=\"https://colab.research.google.com/assets/colab-badge.svg\" alt=\"Open In Colab\"/></a>"
      ]
    },
    {
      "cell_type": "code",
      "execution_count": 36,
      "metadata": {
        "id": "Kw3RFw8zfiYa"
      },
      "outputs": [],
      "source": [
        "#important libraries\n",
        "import pandas as pd\n",
        "import numpy as np\n"
      ]
    },
    {
      "cell_type": "code",
      "source": [
        "from google.colab import drive\n",
        "drive.mount('/content/drive')"
      ],
      "metadata": {
        "colab": {
          "base_uri": "https://localhost:8080/"
        },
        "id": "iEvjmNtRgSf2",
        "outputId": "d67eb4ca-a102-4674-bc25-9041e6684053"
      },
      "execution_count": 37,
      "outputs": [
        {
          "output_type": "stream",
          "name": "stdout",
          "text": [
            "Drive already mounted at /content/drive; to attempt to forcibly remount, call drive.mount(\"/content/drive\", force_remount=True).\n"
          ]
        }
      ]
    },
    {
      "cell_type": "code",
      "source": [
        "age_data= pd.read_csv('/content/drive/MyDrive/Colab Notebooks/Machine Learning Engineer Content/Supervised Learning content/AgeDataset-V1.csv')"
      ],
      "metadata": {
        "id": "drtTOwyWgH4P"
      },
      "execution_count": 38,
      "outputs": []
    },
    {
      "cell_type": "code",
      "source": [
        "age_data.head()"
      ],
      "metadata": {
        "colab": {
          "base_uri": "https://localhost:8080/",
          "height": 424
        },
        "id": "PasNuztRgp8N",
        "outputId": "a33564c7-f02a-4a4f-f34b-7c5ff50efd41"
      },
      "execution_count": 39,
      "outputs": [
        {
          "output_type": "execute_result",
          "data": {
            "text/plain": [
              "     Id                     Name  \\\n",
              "0   Q23        George Washington   \n",
              "1   Q42            Douglas Adams   \n",
              "2   Q91          Abraham Lincoln   \n",
              "3  Q254  Wolfgang Amadeus Mozart   \n",
              "4  Q255     Ludwig van Beethoven   \n",
              "\n",
              "                                 Short description Gender  \\\n",
              "0   1st president of the United States (1732–1799)   Male   \n",
              "1                      English writer and humorist   Male   \n",
              "2  16th president of the United States (1809-1865)   Male   \n",
              "3        Austrian composer of the Classical period   Male   \n",
              "4           German classical and romantic composer   Male   \n",
              "\n",
              "                                             Country  Occupation  Birth year  \\\n",
              "0  United States of America; Kingdom of Great Bri...  Politician        1732   \n",
              "1                                     United Kingdom      Artist        1952   \n",
              "2                           United States of America  Politician        1809   \n",
              "3    Archduchy of Austria; Archbishopric of Salzburg      Artist        1756   \n",
              "4                 Holy Roman Empire; Austrian Empire      Artist        1770   \n",
              "\n",
              "   Death year Manner of death  Age of death  \n",
              "0      1799.0  natural causes          67.0  \n",
              "1      2001.0  natural causes          49.0  \n",
              "2      1865.0        homicide          56.0  \n",
              "3      1791.0             NaN          35.0  \n",
              "4      1827.0             NaN          57.0  "
            ],
            "text/html": [
              "\n",
              "  <div id=\"df-8735afd3-d7d5-4142-aa43-551b3197b99a\">\n",
              "    <div class=\"colab-df-container\">\n",
              "      <div>\n",
              "<style scoped>\n",
              "    .dataframe tbody tr th:only-of-type {\n",
              "        vertical-align: middle;\n",
              "    }\n",
              "\n",
              "    .dataframe tbody tr th {\n",
              "        vertical-align: top;\n",
              "    }\n",
              "\n",
              "    .dataframe thead th {\n",
              "        text-align: right;\n",
              "    }\n",
              "</style>\n",
              "<table border=\"1\" class=\"dataframe\">\n",
              "  <thead>\n",
              "    <tr style=\"text-align: right;\">\n",
              "      <th></th>\n",
              "      <th>Id</th>\n",
              "      <th>Name</th>\n",
              "      <th>Short description</th>\n",
              "      <th>Gender</th>\n",
              "      <th>Country</th>\n",
              "      <th>Occupation</th>\n",
              "      <th>Birth year</th>\n",
              "      <th>Death year</th>\n",
              "      <th>Manner of death</th>\n",
              "      <th>Age of death</th>\n",
              "    </tr>\n",
              "  </thead>\n",
              "  <tbody>\n",
              "    <tr>\n",
              "      <th>0</th>\n",
              "      <td>Q23</td>\n",
              "      <td>George Washington</td>\n",
              "      <td>1st president of the United States (1732–1799)</td>\n",
              "      <td>Male</td>\n",
              "      <td>United States of America; Kingdom of Great Bri...</td>\n",
              "      <td>Politician</td>\n",
              "      <td>1732</td>\n",
              "      <td>1799.0</td>\n",
              "      <td>natural causes</td>\n",
              "      <td>67.0</td>\n",
              "    </tr>\n",
              "    <tr>\n",
              "      <th>1</th>\n",
              "      <td>Q42</td>\n",
              "      <td>Douglas Adams</td>\n",
              "      <td>English writer and humorist</td>\n",
              "      <td>Male</td>\n",
              "      <td>United Kingdom</td>\n",
              "      <td>Artist</td>\n",
              "      <td>1952</td>\n",
              "      <td>2001.0</td>\n",
              "      <td>natural causes</td>\n",
              "      <td>49.0</td>\n",
              "    </tr>\n",
              "    <tr>\n",
              "      <th>2</th>\n",
              "      <td>Q91</td>\n",
              "      <td>Abraham Lincoln</td>\n",
              "      <td>16th president of the United States (1809-1865)</td>\n",
              "      <td>Male</td>\n",
              "      <td>United States of America</td>\n",
              "      <td>Politician</td>\n",
              "      <td>1809</td>\n",
              "      <td>1865.0</td>\n",
              "      <td>homicide</td>\n",
              "      <td>56.0</td>\n",
              "    </tr>\n",
              "    <tr>\n",
              "      <th>3</th>\n",
              "      <td>Q254</td>\n",
              "      <td>Wolfgang Amadeus Mozart</td>\n",
              "      <td>Austrian composer of the Classical period</td>\n",
              "      <td>Male</td>\n",
              "      <td>Archduchy of Austria; Archbishopric of Salzburg</td>\n",
              "      <td>Artist</td>\n",
              "      <td>1756</td>\n",
              "      <td>1791.0</td>\n",
              "      <td>NaN</td>\n",
              "      <td>35.0</td>\n",
              "    </tr>\n",
              "    <tr>\n",
              "      <th>4</th>\n",
              "      <td>Q255</td>\n",
              "      <td>Ludwig van Beethoven</td>\n",
              "      <td>German classical and romantic composer</td>\n",
              "      <td>Male</td>\n",
              "      <td>Holy Roman Empire; Austrian Empire</td>\n",
              "      <td>Artist</td>\n",
              "      <td>1770</td>\n",
              "      <td>1827.0</td>\n",
              "      <td>NaN</td>\n",
              "      <td>57.0</td>\n",
              "    </tr>\n",
              "  </tbody>\n",
              "</table>\n",
              "</div>\n",
              "      <button class=\"colab-df-convert\" onclick=\"convertToInteractive('df-8735afd3-d7d5-4142-aa43-551b3197b99a')\"\n",
              "              title=\"Convert this dataframe to an interactive table.\"\n",
              "              style=\"display:none;\">\n",
              "        \n",
              "  <svg xmlns=\"http://www.w3.org/2000/svg\" height=\"24px\"viewBox=\"0 0 24 24\"\n",
              "       width=\"24px\">\n",
              "    <path d=\"M0 0h24v24H0V0z\" fill=\"none\"/>\n",
              "    <path d=\"M18.56 5.44l.94 2.06.94-2.06 2.06-.94-2.06-.94-.94-2.06-.94 2.06-2.06.94zm-11 1L8.5 8.5l.94-2.06 2.06-.94-2.06-.94L8.5 2.5l-.94 2.06-2.06.94zm10 10l.94 2.06.94-2.06 2.06-.94-2.06-.94-.94-2.06-.94 2.06-2.06.94z\"/><path d=\"M17.41 7.96l-1.37-1.37c-.4-.4-.92-.59-1.43-.59-.52 0-1.04.2-1.43.59L10.3 9.45l-7.72 7.72c-.78.78-.78 2.05 0 2.83L4 21.41c.39.39.9.59 1.41.59.51 0 1.02-.2 1.41-.59l7.78-7.78 2.81-2.81c.8-.78.8-2.07 0-2.86zM5.41 20L4 18.59l7.72-7.72 1.47 1.35L5.41 20z\"/>\n",
              "  </svg>\n",
              "      </button>\n",
              "      \n",
              "  <style>\n",
              "    .colab-df-container {\n",
              "      display:flex;\n",
              "      flex-wrap:wrap;\n",
              "      gap: 12px;\n",
              "    }\n",
              "\n",
              "    .colab-df-convert {\n",
              "      background-color: #E8F0FE;\n",
              "      border: none;\n",
              "      border-radius: 50%;\n",
              "      cursor: pointer;\n",
              "      display: none;\n",
              "      fill: #1967D2;\n",
              "      height: 32px;\n",
              "      padding: 0 0 0 0;\n",
              "      width: 32px;\n",
              "    }\n",
              "\n",
              "    .colab-df-convert:hover {\n",
              "      background-color: #E2EBFA;\n",
              "      box-shadow: 0px 1px 2px rgba(60, 64, 67, 0.3), 0px 1px 3px 1px rgba(60, 64, 67, 0.15);\n",
              "      fill: #174EA6;\n",
              "    }\n",
              "\n",
              "    [theme=dark] .colab-df-convert {\n",
              "      background-color: #3B4455;\n",
              "      fill: #D2E3FC;\n",
              "    }\n",
              "\n",
              "    [theme=dark] .colab-df-convert:hover {\n",
              "      background-color: #434B5C;\n",
              "      box-shadow: 0px 1px 3px 1px rgba(0, 0, 0, 0.15);\n",
              "      filter: drop-shadow(0px 1px 2px rgba(0, 0, 0, 0.3));\n",
              "      fill: #FFFFFF;\n",
              "    }\n",
              "  </style>\n",
              "\n",
              "      <script>\n",
              "        const buttonEl =\n",
              "          document.querySelector('#df-8735afd3-d7d5-4142-aa43-551b3197b99a button.colab-df-convert');\n",
              "        buttonEl.style.display =\n",
              "          google.colab.kernel.accessAllowed ? 'block' : 'none';\n",
              "\n",
              "        async function convertToInteractive(key) {\n",
              "          const element = document.querySelector('#df-8735afd3-d7d5-4142-aa43-551b3197b99a');\n",
              "          const dataTable =\n",
              "            await google.colab.kernel.invokeFunction('convertToInteractive',\n",
              "                                                     [key], {});\n",
              "          if (!dataTable) return;\n",
              "\n",
              "          const docLinkHtml = 'Like what you see? Visit the ' +\n",
              "            '<a target=\"_blank\" href=https://colab.research.google.com/notebooks/data_table.ipynb>data table notebook</a>'\n",
              "            + ' to learn more about interactive tables.';\n",
              "          element.innerHTML = '';\n",
              "          dataTable['output_type'] = 'display_data';\n",
              "          await google.colab.output.renderOutput(dataTable, element);\n",
              "          const docLink = document.createElement('div');\n",
              "          docLink.innerHTML = docLinkHtml;\n",
              "          element.appendChild(docLink);\n",
              "        }\n",
              "      </script>\n",
              "    </div>\n",
              "  </div>\n",
              "  "
            ]
          },
          "metadata": {},
          "execution_count": 39
        }
      ]
    },
    {
      "cell_type": "code",
      "source": [
        "#know dataset informations\n",
        "age_data.info()"
      ],
      "metadata": {
        "colab": {
          "base_uri": "https://localhost:8080/"
        },
        "id": "GmJDU-mYld8y",
        "outputId": "c53eb927-1cad-41dd-bc83-2f330ad20f6e"
      },
      "execution_count": 40,
      "outputs": [
        {
          "output_type": "stream",
          "name": "stdout",
          "text": [
            "<class 'pandas.core.frame.DataFrame'>\n",
            "RangeIndex: 1223009 entries, 0 to 1223008\n",
            "Data columns (total 10 columns):\n",
            " #   Column             Non-Null Count    Dtype  \n",
            "---  ------             --------------    -----  \n",
            " 0   Id                 1223009 non-null  object \n",
            " 1   Name               1223009 non-null  object \n",
            " 2   Short description  1155109 non-null  object \n",
            " 3   Gender             1089363 non-null  object \n",
            " 4   Country            887500 non-null   object \n",
            " 5   Occupation         1016095 non-null  object \n",
            " 6   Birth year         1223009 non-null  int64  \n",
            " 7   Death year         1223008 non-null  float64\n",
            " 8   Manner of death    53603 non-null    object \n",
            " 9   Age of death       1223008 non-null  float64\n",
            "dtypes: float64(2), int64(1), object(7)\n",
            "memory usage: 93.3+ MB\n"
          ]
        }
      ]
    },
    {
      "cell_type": "code",
      "source": [
        "#about know this data set\n",
        "print(age_data.shape) #check dataset shape\n",
        "print(age_data.size) #check dataset size\n",
        "print(age_data.ndim) #check dataset dimensions\n",
        "print(age_data.dtypes) #check dataset datatypes"
      ],
      "metadata": {
        "colab": {
          "base_uri": "https://localhost:8080/"
        },
        "id": "sHPY5I01gw8F",
        "outputId": "a977a6e1-f0a9-4020-c8b9-1c2575f7292c"
      },
      "execution_count": 41,
      "outputs": [
        {
          "output_type": "stream",
          "name": "stdout",
          "text": [
            "(1223009, 10)\n",
            "12230090\n",
            "2\n",
            "Id                    object\n",
            "Name                  object\n",
            "Short description     object\n",
            "Gender                object\n",
            "Country               object\n",
            "Occupation            object\n",
            "Birth year             int64\n",
            "Death year           float64\n",
            "Manner of death       object\n",
            "Age of death         float64\n",
            "dtype: object\n"
          ]
        }
      ]
    },
    {
      "cell_type": "code",
      "source": [
        "#____________check null values______________\n",
        "age_data.isnull().sum().sort_values(ascending = False)"
      ],
      "metadata": {
        "colab": {
          "base_uri": "https://localhost:8080/"
        },
        "id": "WGeeEus4hHcf",
        "outputId": "dab68ba7-6fa8-418f-a056-69665aad7ce5"
      },
      "execution_count": 42,
      "outputs": [
        {
          "output_type": "execute_result",
          "data": {
            "text/plain": [
              "Manner of death      1169406\n",
              "Country               335509\n",
              "Occupation            206914\n",
              "Gender                133646\n",
              "Short description      67900\n",
              "Death year                 1\n",
              "Age of death               1\n",
              "Id                         0\n",
              "Name                       0\n",
              "Birth year                 0\n",
              "dtype: int64"
            ]
          },
          "metadata": {},
          "execution_count": 42
        }
      ]
    },
    {
      "cell_type": "code",
      "source": [
        "for i in age_data:\n",
        "  print(i)"
      ],
      "metadata": {
        "colab": {
          "base_uri": "https://localhost:8080/"
        },
        "id": "2jVXdHFUl9Wq",
        "outputId": "d9bfacce-65b2-47f0-d1d9-dd565b798b11"
      },
      "execution_count": 43,
      "outputs": [
        {
          "output_type": "stream",
          "name": "stdout",
          "text": [
            "Id\n",
            "Name\n",
            "Short description\n",
            "Gender\n",
            "Country\n",
            "Occupation\n",
            "Birth year\n",
            "Death year\n",
            "Manner of death\n",
            "Age of death\n"
          ]
        }
      ]
    },
    {
      "cell_type": "code",
      "source": [
        "#_____________________change columns name ___________________________\n",
        "\n",
        "age_data= age_data.rename({'Short description':'dscription','Birth year':'b_year','Death year':'d_year','Manner of death':'manner_d','Age of death':'age_d'}, axis='columns')"
      ],
      "metadata": {
        "id": "dz5eD8owiG9Q"
      },
      "execution_count": 44,
      "outputs": []
    },
    {
      "cell_type": "code",
      "source": [
        "age_data.head()"
      ],
      "metadata": {
        "colab": {
          "base_uri": "https://localhost:8080/",
          "height": 389
        },
        "id": "HENDVZc2nxEB",
        "outputId": "45afb0a7-0e70-4efe-dc06-b779abb6521a"
      },
      "execution_count": 45,
      "outputs": [
        {
          "output_type": "execute_result",
          "data": {
            "text/plain": [
              "     Id                     Name  \\\n",
              "0   Q23        George Washington   \n",
              "1   Q42            Douglas Adams   \n",
              "2   Q91          Abraham Lincoln   \n",
              "3  Q254  Wolfgang Amadeus Mozart   \n",
              "4  Q255     Ludwig van Beethoven   \n",
              "\n",
              "                                        dscription Gender  \\\n",
              "0   1st president of the United States (1732–1799)   Male   \n",
              "1                      English writer and humorist   Male   \n",
              "2  16th president of the United States (1809-1865)   Male   \n",
              "3        Austrian composer of the Classical period   Male   \n",
              "4           German classical and romantic composer   Male   \n",
              "\n",
              "                                             Country  Occupation  b_year  \\\n",
              "0  United States of America; Kingdom of Great Bri...  Politician    1732   \n",
              "1                                     United Kingdom      Artist    1952   \n",
              "2                           United States of America  Politician    1809   \n",
              "3    Archduchy of Austria; Archbishopric of Salzburg      Artist    1756   \n",
              "4                 Holy Roman Empire; Austrian Empire      Artist    1770   \n",
              "\n",
              "   d_year        manner_d  age_d  \n",
              "0  1799.0  natural causes   67.0  \n",
              "1  2001.0  natural causes   49.0  \n",
              "2  1865.0        homicide   56.0  \n",
              "3  1791.0             NaN   35.0  \n",
              "4  1827.0             NaN   57.0  "
            ],
            "text/html": [
              "\n",
              "  <div id=\"df-c8863923-7ac1-4762-8365-ea0d00d0719b\">\n",
              "    <div class=\"colab-df-container\">\n",
              "      <div>\n",
              "<style scoped>\n",
              "    .dataframe tbody tr th:only-of-type {\n",
              "        vertical-align: middle;\n",
              "    }\n",
              "\n",
              "    .dataframe tbody tr th {\n",
              "        vertical-align: top;\n",
              "    }\n",
              "\n",
              "    .dataframe thead th {\n",
              "        text-align: right;\n",
              "    }\n",
              "</style>\n",
              "<table border=\"1\" class=\"dataframe\">\n",
              "  <thead>\n",
              "    <tr style=\"text-align: right;\">\n",
              "      <th></th>\n",
              "      <th>Id</th>\n",
              "      <th>Name</th>\n",
              "      <th>dscription</th>\n",
              "      <th>Gender</th>\n",
              "      <th>Country</th>\n",
              "      <th>Occupation</th>\n",
              "      <th>b_year</th>\n",
              "      <th>d_year</th>\n",
              "      <th>manner_d</th>\n",
              "      <th>age_d</th>\n",
              "    </tr>\n",
              "  </thead>\n",
              "  <tbody>\n",
              "    <tr>\n",
              "      <th>0</th>\n",
              "      <td>Q23</td>\n",
              "      <td>George Washington</td>\n",
              "      <td>1st president of the United States (1732–1799)</td>\n",
              "      <td>Male</td>\n",
              "      <td>United States of America; Kingdom of Great Bri...</td>\n",
              "      <td>Politician</td>\n",
              "      <td>1732</td>\n",
              "      <td>1799.0</td>\n",
              "      <td>natural causes</td>\n",
              "      <td>67.0</td>\n",
              "    </tr>\n",
              "    <tr>\n",
              "      <th>1</th>\n",
              "      <td>Q42</td>\n",
              "      <td>Douglas Adams</td>\n",
              "      <td>English writer and humorist</td>\n",
              "      <td>Male</td>\n",
              "      <td>United Kingdom</td>\n",
              "      <td>Artist</td>\n",
              "      <td>1952</td>\n",
              "      <td>2001.0</td>\n",
              "      <td>natural causes</td>\n",
              "      <td>49.0</td>\n",
              "    </tr>\n",
              "    <tr>\n",
              "      <th>2</th>\n",
              "      <td>Q91</td>\n",
              "      <td>Abraham Lincoln</td>\n",
              "      <td>16th president of the United States (1809-1865)</td>\n",
              "      <td>Male</td>\n",
              "      <td>United States of America</td>\n",
              "      <td>Politician</td>\n",
              "      <td>1809</td>\n",
              "      <td>1865.0</td>\n",
              "      <td>homicide</td>\n",
              "      <td>56.0</td>\n",
              "    </tr>\n",
              "    <tr>\n",
              "      <th>3</th>\n",
              "      <td>Q254</td>\n",
              "      <td>Wolfgang Amadeus Mozart</td>\n",
              "      <td>Austrian composer of the Classical period</td>\n",
              "      <td>Male</td>\n",
              "      <td>Archduchy of Austria; Archbishopric of Salzburg</td>\n",
              "      <td>Artist</td>\n",
              "      <td>1756</td>\n",
              "      <td>1791.0</td>\n",
              "      <td>NaN</td>\n",
              "      <td>35.0</td>\n",
              "    </tr>\n",
              "    <tr>\n",
              "      <th>4</th>\n",
              "      <td>Q255</td>\n",
              "      <td>Ludwig van Beethoven</td>\n",
              "      <td>German classical and romantic composer</td>\n",
              "      <td>Male</td>\n",
              "      <td>Holy Roman Empire; Austrian Empire</td>\n",
              "      <td>Artist</td>\n",
              "      <td>1770</td>\n",
              "      <td>1827.0</td>\n",
              "      <td>NaN</td>\n",
              "      <td>57.0</td>\n",
              "    </tr>\n",
              "  </tbody>\n",
              "</table>\n",
              "</div>\n",
              "      <button class=\"colab-df-convert\" onclick=\"convertToInteractive('df-c8863923-7ac1-4762-8365-ea0d00d0719b')\"\n",
              "              title=\"Convert this dataframe to an interactive table.\"\n",
              "              style=\"display:none;\">\n",
              "        \n",
              "  <svg xmlns=\"http://www.w3.org/2000/svg\" height=\"24px\"viewBox=\"0 0 24 24\"\n",
              "       width=\"24px\">\n",
              "    <path d=\"M0 0h24v24H0V0z\" fill=\"none\"/>\n",
              "    <path d=\"M18.56 5.44l.94 2.06.94-2.06 2.06-.94-2.06-.94-.94-2.06-.94 2.06-2.06.94zm-11 1L8.5 8.5l.94-2.06 2.06-.94-2.06-.94L8.5 2.5l-.94 2.06-2.06.94zm10 10l.94 2.06.94-2.06 2.06-.94-2.06-.94-.94-2.06-.94 2.06-2.06.94z\"/><path d=\"M17.41 7.96l-1.37-1.37c-.4-.4-.92-.59-1.43-.59-.52 0-1.04.2-1.43.59L10.3 9.45l-7.72 7.72c-.78.78-.78 2.05 0 2.83L4 21.41c.39.39.9.59 1.41.59.51 0 1.02-.2 1.41-.59l7.78-7.78 2.81-2.81c.8-.78.8-2.07 0-2.86zM5.41 20L4 18.59l7.72-7.72 1.47 1.35L5.41 20z\"/>\n",
              "  </svg>\n",
              "      </button>\n",
              "      \n",
              "  <style>\n",
              "    .colab-df-container {\n",
              "      display:flex;\n",
              "      flex-wrap:wrap;\n",
              "      gap: 12px;\n",
              "    }\n",
              "\n",
              "    .colab-df-convert {\n",
              "      background-color: #E8F0FE;\n",
              "      border: none;\n",
              "      border-radius: 50%;\n",
              "      cursor: pointer;\n",
              "      display: none;\n",
              "      fill: #1967D2;\n",
              "      height: 32px;\n",
              "      padding: 0 0 0 0;\n",
              "      width: 32px;\n",
              "    }\n",
              "\n",
              "    .colab-df-convert:hover {\n",
              "      background-color: #E2EBFA;\n",
              "      box-shadow: 0px 1px 2px rgba(60, 64, 67, 0.3), 0px 1px 3px 1px rgba(60, 64, 67, 0.15);\n",
              "      fill: #174EA6;\n",
              "    }\n",
              "\n",
              "    [theme=dark] .colab-df-convert {\n",
              "      background-color: #3B4455;\n",
              "      fill: #D2E3FC;\n",
              "    }\n",
              "\n",
              "    [theme=dark] .colab-df-convert:hover {\n",
              "      background-color: #434B5C;\n",
              "      box-shadow: 0px 1px 3px 1px rgba(0, 0, 0, 0.15);\n",
              "      filter: drop-shadow(0px 1px 2px rgba(0, 0, 0, 0.3));\n",
              "      fill: #FFFFFF;\n",
              "    }\n",
              "  </style>\n",
              "\n",
              "      <script>\n",
              "        const buttonEl =\n",
              "          document.querySelector('#df-c8863923-7ac1-4762-8365-ea0d00d0719b button.colab-df-convert');\n",
              "        buttonEl.style.display =\n",
              "          google.colab.kernel.accessAllowed ? 'block' : 'none';\n",
              "\n",
              "        async function convertToInteractive(key) {\n",
              "          const element = document.querySelector('#df-c8863923-7ac1-4762-8365-ea0d00d0719b');\n",
              "          const dataTable =\n",
              "            await google.colab.kernel.invokeFunction('convertToInteractive',\n",
              "                                                     [key], {});\n",
              "          if (!dataTable) return;\n",
              "\n",
              "          const docLinkHtml = 'Like what you see? Visit the ' +\n",
              "            '<a target=\"_blank\" href=https://colab.research.google.com/notebooks/data_table.ipynb>data table notebook</a>'\n",
              "            + ' to learn more about interactive tables.';\n",
              "          element.innerHTML = '';\n",
              "          dataTable['output_type'] = 'display_data';\n",
              "          await google.colab.output.renderOutput(dataTable, element);\n",
              "          const docLink = document.createElement('div');\n",
              "          docLink.innerHTML = docLinkHtml;\n",
              "          element.appendChild(docLink);\n",
              "        }\n",
              "      </script>\n",
              "    </div>\n",
              "  </div>\n",
              "  "
            ]
          },
          "metadata": {},
          "execution_count": 45
        }
      ]
    },
    {
      "cell_type": "code",
      "source": [
        "#_____________________one column counts values __________\n",
        "top_causes = age_data.groupby('manner_d').size().reset_index(name = 'count')\n",
        "top_causes = top_causes.sort_values(by = 'count', ascending = False).iloc[:10]\n",
        "print(top_causes)"
      ],
      "metadata": {
        "colab": {
          "base_uri": "https://localhost:8080/"
        },
        "id": "qUkCg4QsqHDy",
        "outputId": "491866fd-5858-4468-ed61-e12606609457"
      },
      "execution_count": 79,
      "outputs": [
        {
          "output_type": "stream",
          "name": "stdout",
          "text": [
            "                                manner_d  count\n",
            "137                       natural causes  33532\n",
            "167                              suicide   5814\n",
            "25                              accident   5044\n",
            "95                              homicide   4692\n",
            "46                    capital punishment   3415\n",
            "198                      unnatural death    308\n",
            "74                       death in battle    250\n",
            "60   capital punishment; unnatural death     79\n",
            "54          capital punishment; homicide     42\n",
            "56           capital punishment; suicide     42\n"
          ]
        }
      ]
    },
    {
      "cell_type": "code",
      "source": [
        "#show top 10 causes this graph\n",
        "import matplotlib.pyplot as plt\n",
        "fig = plt.figure(figsize = (10,6))\n",
        "plt.barh(top_causes['manner_d'], top_causes['count'], edgecolor = 'black')\n",
        "plt.title('Top 10 Death Causes')\n",
        "plt.xlabel('Count')\n",
        "plt.ylabel('Causes')\n",
        "plt.tight_layout()\n",
        "plt.style.use('Solarize_Light2')"
      ],
      "metadata": {
        "colab": {
          "base_uri": "https://localhost:8080/",
          "height": 433
        },
        "id": "zDlns0HvsYxb",
        "outputId": "e1529dc9-664e-4fdb-d632-fcd430514404"
      },
      "execution_count": 84,
      "outputs": [
        {
          "output_type": "display_data",
          "data": {
            "text/plain": [
              "<Figure size 720x432 with 1 Axes>"
            ],
            "image/png": "[encoded data removed]"
          },
          "metadata": {}
        }
      ]
    },
    {
      "cell_type": "code",
      "source": [
        "# Top 20 birth years:\n",
        "birth_year = age_data.groupby('b_year').size().reset_index(name = 'count')\n",
        "birth_year = birth_year.sort_values(by = 'count', ascending = False).iloc[:25]\n",
        "print(birth_year)"
      ],
      "metadata": {
        "colab": {
          "base_uri": "https://localhost:8080/"
        },
        "id": "grt1_7n4tMcM",
        "outputId": "c0c76cc7-ebcd-4614-a908-f1be42184942"
      },
      "execution_count": 88,
      "outputs": [
        {
          "output_type": "stream",
          "name": "stdout",
          "text": [
            "      b_year  count\n",
            "2078    1920  13468\n",
            "2079    1921  13373\n",
            "2080    1922  12856\n",
            "2082    1924  12856\n",
            "2081    1923  12691\n",
            "2083    1925  12495\n",
            "2084    1926  11899\n",
            "2085    1927  11699\n",
            "2086    1928  11604\n",
            "2072    1914  11591\n",
            "2070    1912  11403\n",
            "2071    1913  11364\n",
            "2068    1910  11221\n",
            "2087    1929  11125\n",
            "2088    1930  11073\n",
            "2077    1919  10997\n",
            "2069    1911  10882\n",
            "2067    1909  10870\n",
            "2066    1908  10862\n",
            "2065    1907  10715\n",
            "2073    1915  10566\n",
            "2064    1906  10502\n",
            "2076    1918  10453\n",
            "2063    1905  10328\n",
            "2062    1904  10272\n"
          ]
        }
      ]
    },
    {
      "cell_type": "code",
      "source": [
        "fig = plt.figure(figsize = (10,6))\n",
        "plt.barh(birth_year['b_year'], birth_year['count'])\n",
        "plt.title('Top 25 Birth Years')\n",
        "plt.xlabel('Count')\n",
        "plt.ylabel('Years')\n",
        "plt.tight_layout()\n",
        "plt.style.use('dark_background')"
      ],
      "metadata": {
        "colab": {
          "base_uri": "https://localhost:8080/",
          "height": 433
        },
        "id": "xW5Ozve8yZqZ",
        "outputId": "e9c8f7e5-411e-45db-ea5f-881ca835076d"
      },
      "execution_count": 89,
      "outputs": [
        {
          "output_type": "display_data",
          "data": {
            "text/plain": [
              "<Figure size 720x432 with 1 Axes>"
            ],
            "image/png": "[encoded data removed]"
          },
          "metadata": {}
        }
      ]
    },
    {
      "cell_type": "code",
      "source": [
        "import seaborn as sns\n",
        "gd = age_data.groupby('Gender').size().reset_index(name = 'count').sort_values(by = 'count', ascending = False).iloc[:10]\n",
        "gd = pd.DataFrame(gd)\n",
        "fig = plt.figure(figsize = (10,5))\n",
        "sns.barplot(y = gd['Gender'], x = gd['count'], data= gd)\n",
        "plt.tight_layout()\n",
        "plt.title('Top 10 Genders')"
      ],
      "metadata": {
        "colab": {
          "base_uri": "https://localhost:8080/",
          "height": 399
        },
        "id": "fdCvyIHEypcw",
        "outputId": "9c27a671-a1bd-4879-e01e-2f69534de852"
      },
      "execution_count": 91,
      "outputs": [
        {
          "output_type": "execute_result",
          "data": {
            "text/plain": [
              "Text(0.5, 1.0, 'Top 10 Genders')"
            ]
          },
          "metadata": {},
          "execution_count": 91
        },
        {
          "output_type": "display_data",
          "data": {
            "text/plain": [
              "<Figure size 720x360 with 1 Axes>"
            ],
            "image/png": "[encoded data removed]"
          },
          "metadata": {}
        }
      ]
    },
    {
      "cell_type": "code",
      "source": [
        ""
      ],
      "metadata": {
        "id": "wkZjnTxQzGEH"
      },
      "execution_count": null,
      "outputs": []
    }
  ]
}